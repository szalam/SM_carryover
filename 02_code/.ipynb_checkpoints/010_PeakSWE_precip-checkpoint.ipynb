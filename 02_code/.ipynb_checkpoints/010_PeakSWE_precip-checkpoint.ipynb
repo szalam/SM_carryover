{
 "cells": [
  {
   "cell_type": "markdown",
   "id": "87c1b113",
   "metadata": {},
   "source": [
    "# Plot the Peaks SWE/P for USGS watersheds\n",
    "\n",
    "Author: Sarfaraz Alam, Stanford University"
   ]
  },
  {
   "cell_type": "code",
   "execution_count": 10,
   "id": "04b48d3d",
   "metadata": {},
   "outputs": [
    {
     "name": "stdout",
     "output_type": "stream",
     "text": [
      "Collecting pyogrio\n",
      "  Downloading pyogrio-0.7.2-cp39-cp39-win_amd64.whl (14.6 MB)\n",
      "Requirement already satisfied: packaging in c:\\users\\sarfa\\anaconda3\\lib\\site-packages (from pyogrio) (21.3)\n",
      "Requirement already satisfied: numpy in c:\\users\\sarfa\\anaconda3\\lib\\site-packages (from pyogrio) (1.21.5)\n",
      "Requirement already satisfied: certifi in c:\\users\\sarfa\\anaconda3\\lib\\site-packages (from pyogrio) (2021.10.8)\n",
      "Requirement already satisfied: pyparsing!=3.0.5,>=2.0.2 in c:\\users\\sarfa\\anaconda3\\lib\\site-packages (from packaging->pyogrio) (3.0.4)\n",
      "Installing collected packages: pyogrio\n",
      "Successfully installed pyogrio-0.7.2\n"
     ]
    }
   ],
   "source": [
    "!pip install pyogrio\n"
   ]
  },
  {
   "cell_type": "code",
   "execution_count": 8,
   "id": "62517c03",
   "metadata": {},
   "outputs": [],
   "source": [
    "# Libraries\n",
    "%matplotlib inline\n",
    "import numpy as np\n",
    "import pandas as pd\n",
    "import geopandas as gp\n",
    "import pyogrio\n",
    "\n",
    "import matplotlib.pyplot as plt\n",
    "from matplotlib.lines import Line2D\n",
    "from mpl_toolkits.basemap import Basemap\n",
    "\n",
    "# Directory\n",
    "idir_shp = 'C:\\sarfaraz\\SM_carryover/05_shape/'"
   ]
  },
  {
   "cell_type": "code",
   "execution_count": 2,
   "id": "01e63ec1",
   "metadata": {},
   "outputs": [],
   "source": [
    "# Function to plot points\n",
    "def draw_points(gdf, mpl_map, sizecol = None, color = 'red', alpha = 0.7, edgecolor = None, fill = True, cmap = None):\n",
    "    '''\n",
    "    Turns a geopandas gdf of points into matplotlib lat/lon objects for friendly plotting with basemap. \n",
    "    '''\n",
    "    lats = []\n",
    "    lons = []\n",
    "    for index, row in gdf.iterrows():\n",
    "         for pt in list(row['geometry'].coords): \n",
    "            lats.append(pt[1])\n",
    "            lons.append(pt[0])\n",
    "    \n",
    "    if sizecol is None:\n",
    "        sizecol = 0.006\n",
    "    else:\n",
    "        sizecol = sizecol.values\n",
    "    \n",
    "    m.scatter(lons, lats, latlon=True, s = sizecol, alpha=alpha, c = color, edgecolor = edgecolor, cmap = cmap)"
   ]
  },
  {
   "cell_type": "code",
   "execution_count": 9,
   "id": "81a4067b",
   "metadata": {},
   "outputs": [
    {
     "ename": "ImportError",
     "evalue": "The 'read_file' function requires the 'pyogrio' or 'fiona' package, but neither is installed or imports correctly.\nImporting fiona resulted in: DLL load failed while importing _env: The specified procedure could not be found.\nImporting pyogrio resulted in: No module named 'pyogrio'",
     "output_type": "error",
     "traceback": [
      "\u001b[1;31m---------------------------------------------------------------------------\u001b[0m",
      "\u001b[1;31mImportError\u001b[0m                               Traceback (most recent call last)",
      "Cell \u001b[1;32mIn[9], line 2\u001b[0m\n\u001b[0;32m      1\u001b[0m \u001b[38;5;66;03m# read the location shapefile\u001b[39;00m\n\u001b[1;32m----> 2\u001b[0m gdf \u001b[38;5;241m=\u001b[39m \u001b[43mgp\u001b[49m\u001b[38;5;241;43m.\u001b[39;49m\u001b[43mread_file\u001b[49m\u001b[43m(\u001b[49m\u001b[43midir_shp\u001b[49m\u001b[43m \u001b[49m\u001b[38;5;241;43m+\u001b[39;49m\u001b[43m \u001b[49m\u001b[38;5;124;43m\"\u001b[39;49m\u001b[38;5;124;43mpeakSWE_precip.shp\u001b[39;49m\u001b[38;5;124;43m\"\u001b[39;49m\u001b[43m)\u001b[49m\n\u001b[0;32m      3\u001b[0m gdf\u001b[38;5;241m.\u001b[39mcrs \u001b[38;5;241m=\u001b[39m {\u001b[38;5;124m'\u001b[39m\u001b[38;5;124minit\u001b[39m\u001b[38;5;124m'\u001b[39m: \u001b[38;5;124m'\u001b[39m\u001b[38;5;124mepsg:4326\u001b[39m\u001b[38;5;124m'\u001b[39m}\n\u001b[0;32m      5\u001b[0m \u001b[38;5;66;03m# 1. Draw the map background\u001b[39;00m\n",
      "File \u001b[1;32m~\\anaconda3\\envs\\smoist\\lib\\site-packages\\geopandas\\io\\file.py:271\u001b[0m, in \u001b[0;36m_read_file\u001b[1;34m(filename, bbox, mask, rows, engine, **kwargs)\u001b[0m\n\u001b[0;32m    181\u001b[0m \u001b[38;5;28;01mdef\u001b[39;00m \u001b[38;5;21m_read_file\u001b[39m(filename, bbox\u001b[38;5;241m=\u001b[39m\u001b[38;5;28;01mNone\u001b[39;00m, mask\u001b[38;5;241m=\u001b[39m\u001b[38;5;28;01mNone\u001b[39;00m, rows\u001b[38;5;241m=\u001b[39m\u001b[38;5;28;01mNone\u001b[39;00m, engine\u001b[38;5;241m=\u001b[39m\u001b[38;5;28;01mNone\u001b[39;00m, \u001b[38;5;241m*\u001b[39m\u001b[38;5;241m*\u001b[39mkwargs):\n\u001b[0;32m    182\u001b[0m \u001b[38;5;250m    \u001b[39m\u001b[38;5;124;03m\"\"\"\u001b[39;00m\n\u001b[0;32m    183\u001b[0m \u001b[38;5;124;03m    Returns a GeoDataFrame from a file or URL.\u001b[39;00m\n\u001b[0;32m    184\u001b[0m \n\u001b[1;32m   (...)\u001b[0m\n\u001b[0;32m    269\u001b[0m \n\u001b[0;32m    270\u001b[0m \u001b[38;5;124;03m    \"\"\"\u001b[39;00m\n\u001b[1;32m--> 271\u001b[0m     engine \u001b[38;5;241m=\u001b[39m \u001b[43m_check_engine\u001b[49m\u001b[43m(\u001b[49m\u001b[43mengine\u001b[49m\u001b[43m,\u001b[49m\u001b[43m \u001b[49m\u001b[38;5;124;43m\"\u001b[39;49m\u001b[38;5;124;43m'\u001b[39;49m\u001b[38;5;124;43mread_file\u001b[39;49m\u001b[38;5;124;43m'\u001b[39;49m\u001b[38;5;124;43m function\u001b[39;49m\u001b[38;5;124;43m\"\u001b[39;49m\u001b[43m)\u001b[49m\n\u001b[0;32m    273\u001b[0m     filename \u001b[38;5;241m=\u001b[39m _expand_user(filename)\n\u001b[0;32m    275\u001b[0m     from_bytes \u001b[38;5;241m=\u001b[39m \u001b[38;5;28;01mFalse\u001b[39;00m\n",
      "File \u001b[1;32m~\\anaconda3\\envs\\smoist\\lib\\site-packages\\geopandas\\io\\file.py:120\u001b[0m, in \u001b[0;36m_check_engine\u001b[1;34m(engine, func)\u001b[0m\n\u001b[0;32m    118\u001b[0m     _check_pyogrio(func)\n\u001b[0;32m    119\u001b[0m \u001b[38;5;28;01melif\u001b[39;00m engine \u001b[38;5;129;01mis\u001b[39;00m \u001b[38;5;28;01mNone\u001b[39;00m:\n\u001b[1;32m--> 120\u001b[0m     \u001b[38;5;28;01mraise\u001b[39;00m \u001b[38;5;167;01mImportError\u001b[39;00m(\n\u001b[0;32m    121\u001b[0m         \u001b[38;5;124mf\u001b[39m\u001b[38;5;124m\"\u001b[39m\u001b[38;5;124mThe \u001b[39m\u001b[38;5;132;01m{\u001b[39;00mfunc\u001b[38;5;132;01m}\u001b[39;00m\u001b[38;5;124m requires the \u001b[39m\u001b[38;5;124m'\u001b[39m\u001b[38;5;124mpyogrio\u001b[39m\u001b[38;5;124m'\u001b[39m\u001b[38;5;124m or \u001b[39m\u001b[38;5;124m'\u001b[39m\u001b[38;5;124mfiona\u001b[39m\u001b[38;5;124m'\u001b[39m\u001b[38;5;124m package, \u001b[39m\u001b[38;5;124m\"\u001b[39m\n\u001b[0;32m    122\u001b[0m         \u001b[38;5;124m\"\u001b[39m\u001b[38;5;124mbut neither is installed or imports correctly.\u001b[39m\u001b[38;5;124m\"\u001b[39m\n\u001b[0;32m    123\u001b[0m         \u001b[38;5;124mf\u001b[39m\u001b[38;5;124m\"\u001b[39m\u001b[38;5;130;01m\\n\u001b[39;00m\u001b[38;5;124mImporting fiona resulted in: \u001b[39m\u001b[38;5;132;01m{\u001b[39;00mfiona_import_error\u001b[38;5;132;01m}\u001b[39;00m\u001b[38;5;124m\"\u001b[39m\n\u001b[0;32m    124\u001b[0m         \u001b[38;5;124mf\u001b[39m\u001b[38;5;124m\"\u001b[39m\u001b[38;5;130;01m\\n\u001b[39;00m\u001b[38;5;124mImporting pyogrio resulted in: \u001b[39m\u001b[38;5;132;01m{\u001b[39;00mpyogrio_import_error\u001b[38;5;132;01m}\u001b[39;00m\u001b[38;5;124m\"\u001b[39m\n\u001b[0;32m    125\u001b[0m     )\n\u001b[0;32m    127\u001b[0m \u001b[38;5;28;01mreturn\u001b[39;00m engine\n",
      "\u001b[1;31mImportError\u001b[0m: The 'read_file' function requires the 'pyogrio' or 'fiona' package, but neither is installed or imports correctly.\nImporting fiona resulted in: DLL load failed while importing _env: The specified procedure could not be found.\nImporting pyogrio resulted in: No module named 'pyogrio'"
     ]
    }
   ],
   "source": [
    "# read the location shapefile\n",
    "gdf = gp.read_file(idir_shp + \"peakSWE_precip.shp\")\n",
    "gdf.crs = {'init': 'epsg:4326'}\n",
    "\n",
    "# 1. Draw the map background\n",
    "fig = plt.figure(figsize=(9, 8))\n",
    "\n",
    "m = Basemap(projection='lcc', resolution='l', \n",
    "            lat_0=43.0, lon_0=-117,\n",
    "            width=1.7E6, height=1.8E6)\n",
    "\n",
    "\n",
    "draw_points(gdf,m, alpha = .9, sizecol= (gdf[\"PeakSWE_Pr\"]/gdf[\"PeakSWE_Pr\"])*100,  color= gdf[\"PeakSWE_Pr\"], edgecolor = 'black', cmap = 'RdYlBu')\n",
    "\n",
    "# Add elements to basemap \n",
    "m.shadedrelief(zorder = 0)\n",
    "m.drawcoastlines(color='gray')\n",
    "m.drawcountries(color='gray')\n",
    "m.drawstates(color='gray')\n",
    "# m.drawrivers(color = \"blue\")\n",
    "# m.fillcontinents(color='none',lake_color='blue')\n",
    "\n",
    "# Draw lines of latitude and longitude. Labels are like [left,right,top,bottom]\n",
    "parallels = np.arange(0.,90.,3.)\n",
    "meridians = np.arange(0.,360.,3.)\n",
    "\n",
    "m.drawparallels(parallels,labels=[True,False,True,False]) # [left,right,top,bottom]\n",
    "m.drawmeridians(meridians,labels=[True,False,False,True]) # [left,right,top,bottom]\n",
    "\n",
    "# Scalebar\n",
    "m.drawmapscale(-111.5, 36.,lon0=gdf.centroid.x[0], lat0=gdf.centroid.y[0], length = 300, fontsize = 14, linewidth = 2)\n",
    "\n",
    "\n",
    "plt.colorbar(label='SWE/P')\n",
    "plt.clim(0, 1)\n",
    "\n",
    "plt.show()"
   ]
  },
  {
   "cell_type": "code",
   "execution_count": 4,
   "id": "952e0d08",
   "metadata": {},
   "outputs": [
    {
     "ename": "NameError",
     "evalue": "name 'gdf' is not defined",
     "output_type": "error",
     "traceback": [
      "\u001b[1;31m---------------------------------------------------------------------------\u001b[0m",
      "\u001b[1;31mNameError\u001b[0m                                 Traceback (most recent call last)",
      "Cell \u001b[1;32mIn[4], line 1\u001b[0m\n\u001b[1;32m----> 1\u001b[0m \u001b[43mgdf\u001b[49m\u001b[38;5;241m.\u001b[39mcolumns\n",
      "\u001b[1;31mNameError\u001b[0m: name 'gdf' is not defined"
     ]
    }
   ],
   "source": [
    "gdf.columns"
   ]
  },
  {
   "cell_type": "code",
   "execution_count": 5,
   "id": "fdad26a5",
   "metadata": {},
   "outputs": [
    {
     "ename": "ImportError",
     "evalue": "The 'read_file' function requires the 'pyogrio' or 'fiona' package, but neither is installed or imports correctly.\nImporting fiona resulted in: DLL load failed while importing _env: The specified procedure could not be found.\nImporting pyogrio resulted in: No module named 'pyogrio'",
     "output_type": "error",
     "traceback": [
      "\u001b[1;31m---------------------------------------------------------------------------\u001b[0m",
      "\u001b[1;31mImportError\u001b[0m                               Traceback (most recent call last)",
      "Cell \u001b[1;32mIn[5], line 2\u001b[0m\n\u001b[0;32m      1\u001b[0m \u001b[38;5;66;03m# read the location shapefile\u001b[39;00m\n\u001b[1;32m----> 2\u001b[0m gdf \u001b[38;5;241m=\u001b[39m \u001b[43mgp\u001b[49m\u001b[38;5;241;43m.\u001b[39;49m\u001b[43mread_file\u001b[49m\u001b[43m(\u001b[49m\u001b[43midir_shp\u001b[49m\u001b[43m \u001b[49m\u001b[38;5;241;43m+\u001b[39;49m\u001b[43m \u001b[49m\u001b[38;5;124;43m\"\u001b[39;49m\u001b[38;5;124;43mpeakSWE_precip.shp\u001b[39;49m\u001b[38;5;124;43m\"\u001b[39;49m\u001b[43m)\u001b[49m\n\u001b[0;32m      3\u001b[0m gdf\u001b[38;5;241m.\u001b[39mcrs \u001b[38;5;241m=\u001b[39m {\u001b[38;5;124m'\u001b[39m\u001b[38;5;124minit\u001b[39m\u001b[38;5;124m'\u001b[39m: \u001b[38;5;124m'\u001b[39m\u001b[38;5;124mepsg:4326\u001b[39m\u001b[38;5;124m'\u001b[39m}\n\u001b[0;32m      5\u001b[0m \u001b[38;5;66;03m# 1. Draw the map background\u001b[39;00m\n",
      "File \u001b[1;32m~\\anaconda3\\envs\\smoist\\lib\\site-packages\\geopandas\\io\\file.py:271\u001b[0m, in \u001b[0;36m_read_file\u001b[1;34m(filename, bbox, mask, rows, engine, **kwargs)\u001b[0m\n\u001b[0;32m    181\u001b[0m \u001b[38;5;28;01mdef\u001b[39;00m \u001b[38;5;21m_read_file\u001b[39m(filename, bbox\u001b[38;5;241m=\u001b[39m\u001b[38;5;28;01mNone\u001b[39;00m, mask\u001b[38;5;241m=\u001b[39m\u001b[38;5;28;01mNone\u001b[39;00m, rows\u001b[38;5;241m=\u001b[39m\u001b[38;5;28;01mNone\u001b[39;00m, engine\u001b[38;5;241m=\u001b[39m\u001b[38;5;28;01mNone\u001b[39;00m, \u001b[38;5;241m*\u001b[39m\u001b[38;5;241m*\u001b[39mkwargs):\n\u001b[0;32m    182\u001b[0m \u001b[38;5;250m    \u001b[39m\u001b[38;5;124;03m\"\"\"\u001b[39;00m\n\u001b[0;32m    183\u001b[0m \u001b[38;5;124;03m    Returns a GeoDataFrame from a file or URL.\u001b[39;00m\n\u001b[0;32m    184\u001b[0m \n\u001b[1;32m   (...)\u001b[0m\n\u001b[0;32m    269\u001b[0m \n\u001b[0;32m    270\u001b[0m \u001b[38;5;124;03m    \"\"\"\u001b[39;00m\n\u001b[1;32m--> 271\u001b[0m     engine \u001b[38;5;241m=\u001b[39m \u001b[43m_check_engine\u001b[49m\u001b[43m(\u001b[49m\u001b[43mengine\u001b[49m\u001b[43m,\u001b[49m\u001b[43m \u001b[49m\u001b[38;5;124;43m\"\u001b[39;49m\u001b[38;5;124;43m'\u001b[39;49m\u001b[38;5;124;43mread_file\u001b[39;49m\u001b[38;5;124;43m'\u001b[39;49m\u001b[38;5;124;43m function\u001b[39;49m\u001b[38;5;124;43m\"\u001b[39;49m\u001b[43m)\u001b[49m\n\u001b[0;32m    273\u001b[0m     filename \u001b[38;5;241m=\u001b[39m _expand_user(filename)\n\u001b[0;32m    275\u001b[0m     from_bytes \u001b[38;5;241m=\u001b[39m \u001b[38;5;28;01mFalse\u001b[39;00m\n",
      "File \u001b[1;32m~\\anaconda3\\envs\\smoist\\lib\\site-packages\\geopandas\\io\\file.py:120\u001b[0m, in \u001b[0;36m_check_engine\u001b[1;34m(engine, func)\u001b[0m\n\u001b[0;32m    118\u001b[0m     _check_pyogrio(func)\n\u001b[0;32m    119\u001b[0m \u001b[38;5;28;01melif\u001b[39;00m engine \u001b[38;5;129;01mis\u001b[39;00m \u001b[38;5;28;01mNone\u001b[39;00m:\n\u001b[1;32m--> 120\u001b[0m     \u001b[38;5;28;01mraise\u001b[39;00m \u001b[38;5;167;01mImportError\u001b[39;00m(\n\u001b[0;32m    121\u001b[0m         \u001b[38;5;124mf\u001b[39m\u001b[38;5;124m\"\u001b[39m\u001b[38;5;124mThe \u001b[39m\u001b[38;5;132;01m{\u001b[39;00mfunc\u001b[38;5;132;01m}\u001b[39;00m\u001b[38;5;124m requires the \u001b[39m\u001b[38;5;124m'\u001b[39m\u001b[38;5;124mpyogrio\u001b[39m\u001b[38;5;124m'\u001b[39m\u001b[38;5;124m or \u001b[39m\u001b[38;5;124m'\u001b[39m\u001b[38;5;124mfiona\u001b[39m\u001b[38;5;124m'\u001b[39m\u001b[38;5;124m package, \u001b[39m\u001b[38;5;124m\"\u001b[39m\n\u001b[0;32m    122\u001b[0m         \u001b[38;5;124m\"\u001b[39m\u001b[38;5;124mbut neither is installed or imports correctly.\u001b[39m\u001b[38;5;124m\"\u001b[39m\n\u001b[0;32m    123\u001b[0m         \u001b[38;5;124mf\u001b[39m\u001b[38;5;124m\"\u001b[39m\u001b[38;5;130;01m\\n\u001b[39;00m\u001b[38;5;124mImporting fiona resulted in: \u001b[39m\u001b[38;5;132;01m{\u001b[39;00mfiona_import_error\u001b[38;5;132;01m}\u001b[39;00m\u001b[38;5;124m\"\u001b[39m\n\u001b[0;32m    124\u001b[0m         \u001b[38;5;124mf\u001b[39m\u001b[38;5;124m\"\u001b[39m\u001b[38;5;130;01m\\n\u001b[39;00m\u001b[38;5;124mImporting pyogrio resulted in: \u001b[39m\u001b[38;5;132;01m{\u001b[39;00mpyogrio_import_error\u001b[38;5;132;01m}\u001b[39;00m\u001b[38;5;124m\"\u001b[39m\n\u001b[0;32m    125\u001b[0m     )\n\u001b[0;32m    127\u001b[0m \u001b[38;5;28;01mreturn\u001b[39;00m engine\n",
      "\u001b[1;31mImportError\u001b[0m: The 'read_file' function requires the 'pyogrio' or 'fiona' package, but neither is installed or imports correctly.\nImporting fiona resulted in: DLL load failed while importing _env: The specified procedure could not be found.\nImporting pyogrio resulted in: No module named 'pyogrio'"
     ]
    }
   ],
   "source": [
    "# read the location shapefile\n",
    "gdf = gp.read_file(idir_shp + \"peakSWE_precip.shp\")\n",
    "gdf.crs = {'init': 'epsg:4326'}\n",
    "\n",
    "# 1. Draw the map background\n",
    "fig = plt.figure(figsize=(13, 9))\n",
    "\n",
    "m = Basemap(projection='lcc', resolution='l', #lcc\n",
    "            lat_0=42.0, lon_0=-114.2,\n",
    "            width=2.0E6, height=1.8E6)\n",
    "\n",
    "# Plot points\n",
    "draw_points(gdf,m, alpha = .9, sizecol= (gdf[\"PeakSWE_Pr\"]/gdf[\"PeakSWE_Pr\"])*100,  color= gdf[\"PeakSWE_Pr\"], edgecolor = 'black', cmap = 'RdYlBu')\n",
    "\n",
    "# Add elements to basemap \n",
    "m.shadedrelief(zorder = 0)\n",
    "# m.bluemarble()\n",
    "m.drawcoastlines(color='gray')\n",
    "m.drawcountries(color='gray')\n",
    "m.drawstates(color='gray')\n",
    "m.drawrivers(color = \"skyblue\")\n",
    "# m.fillcontinents(color='none',lake_color='blue')\n",
    "\n",
    "# Draw lines of latitude and longitude. Labels are like [left,right,top,bottom]\n",
    "parallels = np.arange(0.,90.,3.)\n",
    "meridians = np.arange(0.,360.,4.)\n",
    "\n",
    "m.drawparallels(parallels,labels=[True,False,True,False]) # [left,right,top,bottom]\n",
    "m.drawmeridians(meridians,labels=[True,False,False,True]) # [left,right,top,bottom]\n",
    "\n",
    "\n",
    "# Plot region boundary\n",
    "m.readshapefile((idir_shp + \"Sierra_reg_d\"),'Sierra Nevada Region', drawbounds=True, linewidth=.7, color='r')\n",
    "# m.readshapefile((idir_shp + \"UCol_reg\"),'Upper Colorado Region', drawbounds=True, linewidth=.7, color='b')\n",
    "\n",
    "\n",
    "# Scalebar\n",
    "m.drawmapscale(-106., 34.5,lon0=gdf.centroid.x[0], lat0=gdf.centroid.y[0], length = 300, fontsize = 14, linewidth = 2)\n",
    "\n",
    "#====================================================\n",
    "# Legend\n",
    "#====================================================\n",
    "# Make the first legend (upper right of map)\n",
    "custom_lines = [Line2D([0], [0], color='red', lw=2),\n",
    "                Line2D([0], [0], color='blue', lw=2)\n",
    "               ]\n",
    "\n",
    "# plt.legend(custom_lines, [\"Sierra Nevada Region\", 'Upper Colorado Region'], \n",
    "#                     loc = \"upper right\",\n",
    "#                     prop={'size':13})\n",
    "plt.legend(custom_lines, [\"Sierra Nevada Region\"], \n",
    "                    loc = \"upper right\",\n",
    "                    prop={'size':13})\n",
    "\n",
    "\n",
    "# Color bar\n",
    "cbar = plt.colorbar(label='SWE/P')\n",
    "plt.clim(0, 1)\n",
    "cbar.set_label(r\"Peak SWE/Precipitation\", size=14)\n",
    "# Color bar font size\n",
    "cbar.ax.tick_params(labelsize=14) \n",
    "\n",
    "plt.show()"
   ]
  },
  {
   "cell_type": "code",
   "execution_count": null,
   "id": "43639b7f-993b-4a41-80e6-dfcace704924",
   "metadata": {},
   "outputs": [],
   "source": []
  }
 ],
 "metadata": {
  "kernelspec": {
   "display_name": "smoist",
   "language": "python",
   "name": "smoist"
  },
  "language_info": {
   "codemirror_mode": {
    "name": "ipython",
    "version": 3
   },
   "file_extension": ".py",
   "mimetype": "text/x-python",
   "name": "python",
   "nbconvert_exporter": "python",
   "pygments_lexer": "ipython3",
   "version": "3.10.12"
  }
 },
 "nbformat": 4,
 "nbformat_minor": 5
}
